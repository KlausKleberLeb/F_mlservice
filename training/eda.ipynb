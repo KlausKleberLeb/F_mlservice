{
 "cells": [
  {
   "cell_type": "markdown",
   "metadata": {},
   "source": [
    "# IMDB Classification Training\n",
    "\n",
    "Based on https://www.kaggle.com/code/hishamkhdair/nlp-imdb-classification-pytorch-embeddings"
   ]
  },
  {
   "cell_type": "code",
   "execution_count": 5,
   "metadata": {},
   "outputs": [
    {
     "name": "stdout",
     "output_type": "stream",
     "text": [
      "Brilliant over-acting by Lesley Ann Warren. Best dramatic hobo lady I have ever seen, and love scenes in clothes warehouse are second to none. The corn on face is a classic, as good as anything in Blazing Saddles. The take on lawyers is also superb. After being accused of being a turncoat, selling out his boss, and being dishonest the lawyer of Pepto Bolt shrugs indifferently \"I'm a lawyer\" he says. Three funny words. Jeffrey Tambor, a favorite from the later Larry Sanders show, is fantastic here too as a mad millionaire who wants to crush the ghetto. His character is more malevolent than usual. The hospital scene, and the scene where the homeless invade a demolition site, are all-time classics. Look for the legs scene and the two big diggers fighting (one bleeds). This movie gets better each time I see it (which is quite often)."
     ]
    }
   ],
   "source": [
    "!cat aclImdb/train/pos/10001_10.txt"
   ]
  },
  {
   "cell_type": "code",
   "execution_count": 6,
   "metadata": {},
   "outputs": [
    {
     "name": "stdout",
     "output_type": "stream",
     "text": [
      "Successfully read 25000 texts, and 25000 labels from training dataset\n"
     ]
    }
   ],
   "source": [
    "import os\n",
    "import pathlib\n",
    "\n",
    "# Define a function to read the text data and return text and label pairs\n",
    "def read_text_data(data_path):\n",
    "    texts = []\n",
    "    labels = []\n",
    "    for label in ['pos', 'neg']:\n",
    "        label_path = os.path.join(data_path, label)\n",
    "        for text_file in os.listdir(label_path):\n",
    "            with open(os.path.join(label_path, text_file), 'r', encoding='utf-8') as f:\n",
    "                text = f.read()\n",
    "            labels.append(1 if label == 'pos' else 0)\n",
    "            texts.append(text)\n",
    "    return texts, labels\n",
    "\n",
    "# Path to the directory of the saved dataset\n",
    "data_path = pathlib.Path(\"aclImdb\")\n",
    "\n",
    "# Read the text data and labels from the train directory\n",
    "texts, labels = read_text_data(data_path/'train')\n",
    "\n",
    "print(f'Successfully read {len(texts)} texts, and {len(labels)} labels from training dataset')"
   ]
  },
  {
   "cell_type": "code",
   "execution_count": 32,
   "metadata": {},
   "outputs": [],
   "source": [
    "import pickle\n",
    "filehandler = open(\"text.pkl\",\"wb\")\n",
    "pickle.dump(texts,filehandler)\n",
    "filehandler.close()\n"
   ]
  },
  {
   "cell_type": "code",
   "execution_count": 9,
   "metadata": {},
   "outputs": [],
   "source": [
    "from torchtext.data.utils import get_tokenizer\n",
    "\n",
    "# Define a tokenizer function to preprocess the text\n",
    "tokenizer = get_tokenizer('basic_english')"
   ]
  },
  {
   "cell_type": "code",
   "execution_count": 10,
   "metadata": {},
   "outputs": [
    {
     "data": {
      "text/plain": [
       "['here', 'is', 'an', 'example']"
      ]
     },
     "execution_count": 10,
     "metadata": {},
     "output_type": "execute_result"
    }
   ],
   "source": [
    "tokenizer('HERE Is an Example ;')\n"
   ]
  },
  {
   "cell_type": "code",
   "execution_count": 11,
   "metadata": {},
   "outputs": [],
   "source": [
    "from torchtext.vocab import build_vocab_from_iterator\n",
    "\n",
    "# Build the vocabulary from the text data\n",
    "vocab = build_vocab_from_iterator(map(tokenizer, texts), specials=['<unk>'])\n",
    "vocab.set_default_index(vocab['<unk>'])\n",
    "\n",
    "# Define a function to numericalize the text\n",
    "def numericalize_text(text):\n",
    "    return [vocab[token] for token in tokenizer(text)]"
   ]
  },
  {
   "cell_type": "code",
   "execution_count": 13,
   "metadata": {},
   "outputs": [
    {
     "name": "stdout",
     "output_type": "stream",
     "text": [
      "100683\n",
      "[131, 9, 40, 464]\n",
      "0\n"
     ]
    }
   ],
   "source": [
    "# the length of the constructed vocab from the text set, 100683 unique tokens\n",
    "print(len(vocab))\n",
    "\n",
    "# checking the index of words that are present in the vocabulary\n",
    "print(vocab(['here', 'is', 'an', 'example']))\n",
    "\n",
    "# checking the index of a word that is not present in the vocabulary, returns 0, the index for <unk>\n",
    "print(vocab['biblioklept'])"
   ]
  },
  {
   "cell_type": "code",
   "execution_count": 14,
   "metadata": {},
   "outputs": [],
   "source": [
    "import torch\n",
    "from torch.utils.data import Dataset, DataLoader, random_split\n",
    "\n",
    "# Define a custom dataset class for the text data\n",
    "class CustomTextDataset(Dataset):\n",
    "    def __init__(self, texts, labels, vocab, numericalize_text):\n",
    "        self.texts = texts\n",
    "        self.labels = labels\n",
    "        self.vocab = vocab\n",
    "        self.numericalize_text = numericalize_text\n",
    "\n",
    "    def __getitem__(self, index):\n",
    "        label = self.labels[index]\n",
    "        text = self.texts[index]\n",
    "        numericalized_text = self.numericalize_text(text)\n",
    "        return numericalized_text, label\n",
    "\n",
    "    def __len__(self):\n",
    "        return len(self.labels)"
   ]
  },
  {
   "cell_type": "code",
   "execution_count": 15,
   "metadata": {},
   "outputs": [],
   "source": [
    "# Create train and validation datasets\n",
    "dataset = CustomTextDataset(texts, labels, vocab, numericalize_text)\n",
    "train_size = int(len(dataset) * 0.8)\n",
    "val_size = len(dataset) - train_size\n",
    "train_dataset, val_dataset = random_split(dataset, [train_size, val_size])"
   ]
  },
  {
   "cell_type": "code",
   "execution_count": 16,
   "metadata": {},
   "outputs": [],
   "source": [
    "device = torch.device(\"cuda\" if torch.cuda.is_available() else \"cpu\")\n",
    "\n",
    "from torch.nn.utils.rnn import pad_sequence\n",
    "\n",
    "# preprocess the data with a collate function, and pads the input sequences to the maximum length in the batch:\n",
    "def collate_batch(batch):\n",
    "    label_list, text_list = [], []\n",
    "    for (_text, _label) in batch:\n",
    "        label_list.append(_label)\n",
    "        processed_text = torch.tensor(_text)\n",
    "        text_list.append(processed_text)\n",
    "    padded_text = pad_sequence(text_list, batch_first=False, padding_value=1.0)\n",
    "    return torch.tensor(label_list, dtype=torch.float64).to(device), padded_text.to(device)\n",
    "\n",
    "# Create train and validation data loaders\n",
    "batch_size = 32\n",
    "train_loader = DataLoader(train_dataset, collate_fn=collate_batch, batch_size=batch_size, shuffle=True)\n",
    "val_loader = DataLoader(val_dataset, collate_fn=collate_batch, batch_size=batch_size, shuffle=False)"
   ]
  },
  {
   "cell_type": "code",
   "execution_count": 17,
   "metadata": {},
   "outputs": [
    {
     "name": "stdout",
     "output_type": "stream",
     "text": [
      "torch.Size([32]) torch.Size([662, 32])\n",
      "tensor([0., 0., 1., 1., 1., 1., 0., 1., 1., 1., 0., 1., 1., 0., 1., 1., 0., 1.,\n",
      "        1., 0., 0., 0., 1., 1., 1., 0., 0., 0., 0., 1., 0., 0.],\n",
      "       dtype=torch.float64) tensor([[   25,    13, 30712,  ...,    59,    93,   578],\n",
      "        [  237,     9,    16,  ...,    85,     6,    11],\n",
      "        [   33,    34,     1,  ...,    84,    36,     1],\n",
      "        ...,\n",
      "        [    1,     1,     1,  ...,     1,     1,     1],\n",
      "        [    1,     1,     1,  ...,     1,     1,     1],\n",
      "        [    1,     1,     1,  ...,     1,     1,     1]])\n"
     ]
    }
   ],
   "source": [
    "label, text = next(iter(train_loader))\n",
    "print(label.shape, text.shape)\n",
    "print(label, text)"
   ]
  },
  {
   "cell_type": "code",
   "execution_count": 18,
   "metadata": {},
   "outputs": [],
   "source": [
    "from torch import nn\n",
    "import torch.nn.functional as F\n",
    "\n",
    "class TextClassificationModel(nn.Module):\n",
    "    def __init__(self, vocab_size, embedding_dim, output_dim):\n",
    "        super().__init__()\n",
    "        self.embedding = nn.Embedding(vocab_size, embedding_dim)\n",
    "        self.fc = nn.Linear(embedding_dim, output_dim)\n",
    "        \n",
    "    def forward(self, text):\n",
    "        embedded = self.embedding(text)\n",
    "        embedded = embedded.permute(1, 0, 2)\n",
    "        pooled = F.avg_pool2d(embedded, (embedded.shape[1], 1)).squeeze(1) \n",
    "        return self.fc(pooled)"
   ]
  },
  {
   "cell_type": "code",
   "execution_count": 19,
   "metadata": {},
   "outputs": [
    {
     "name": "stderr",
     "output_type": "stream",
     "text": [
      "/Users/wu3ty/dev/mlservice/mlservice-env/lib/python3.11/site-packages/tqdm/auto.py:21: TqdmWarning: IProgress not found. Please update jupyter and ipywidgets. See https://ipywidgets.readthedocs.io/en/stable/user_install.html\n",
      "  from .autonotebook import tqdm as notebook_tqdm\n"
     ]
    }
   ],
   "source": [
    "# Create an instance of the text classification model with the given vocabulary size, embedding dimension and output dimension\n",
    "\n",
    "model = TextClassificationModel(vocab_size = len(vocab), embedding_dim = 100, output_dim = 1)\n",
    "\n",
    "# Define a loss function based on binary cross entropy and sigmoid activation\n",
    "criterion = nn.BCEWithLogitsLoss()\n",
    "# Define an optimizer that updates the model parameters using Adam algorithm\n",
    "optimizer = torch.optim.Adam(model.parameters())\n",
    "\n",
    "# Move the model to the device (CPU or GPU) for computation\n",
    "model = model.to(device)"
   ]
  },
  {
   "cell_type": "code",
   "execution_count": 20,
   "metadata": {},
   "outputs": [
    {
     "name": "stdout",
     "output_type": "stream",
     "text": [
      "Epoch 1 Train: Loss: 0.6837 Acc: 0.5776\n",
      "Epoch 1 Valid: Loss: 0.6696 Acc: 0.5661\n",
      "Epoch 2 Train: Loss: 0.6322 Acc: 0.7256\n",
      "Epoch 2 Valid: Loss: 0.5932 Acc: 0.7400\n",
      "Epoch 3 Train: Loss: 0.5476 Acc: 0.7864\n",
      "Epoch 3 Valid: Loss: 0.5134 Acc: 0.8027\n",
      "Epoch 4 Train: Loss: 0.4677 Acc: 0.8385\n",
      "Epoch 4 Valid: Loss: 0.4520 Acc: 0.8336\n",
      "Epoch 5 Train: Loss: 0.4078 Acc: 0.8688\n",
      "Epoch 5 Valid: Loss: 0.4058 Acc: 0.8475\n",
      "Epoch 6 Train: Loss: 0.3580 Acc: 0.8877\n",
      "Epoch 6 Valid: Loss: 0.3701 Acc: 0.8682\n",
      "Epoch 7 Train: Loss: 0.3210 Acc: 0.9007\n",
      "Epoch 7 Valid: Loss: 0.3451 Acc: 0.8768\n",
      "Epoch 8 Train: Loss: 0.2913 Acc: 0.9102\n",
      "Epoch 8 Valid: Loss: 0.3280 Acc: 0.8832\n",
      "Epoch 9 Train: Loss: 0.2689 Acc: 0.9155\n",
      "Epoch 9 Valid: Loss: 0.3160 Acc: 0.8814\n",
      "Epoch 10 Train: Loss: 0.2482 Acc: 0.9237\n",
      "Epoch 10 Valid: Loss: 0.3037 Acc: 0.8875\n"
     ]
    }
   ],
   "source": [
    "for epoch in range(10):\n",
    "  epoch_loss = 0\n",
    "  epoch_acc = 0\n",
    "  \n",
    "  model.train()\n",
    "  for label, text in train_loader:\n",
    "      optimizer.zero_grad()\n",
    "      predictions = model(text).squeeze(1)\n",
    "      loss = criterion(predictions, label)\n",
    "      \n",
    "      rounded_preds = torch.round(\n",
    "          torch.sigmoid(predictions))\n",
    "      correct = (rounded_preds == label).float()\n",
    "      acc = correct.sum() / len(correct)\n",
    "      \n",
    "      loss.backward()\n",
    "      optimizer.step()\n",
    "      epoch_loss += loss.item()\n",
    "      epoch_acc += acc.item()\n",
    "\n",
    "  print(\"Epoch %d Train: Loss: %.4f Acc: %.4f\" % (epoch + 1, epoch_loss / len(train_loader), \n",
    "                                                  epoch_acc / len(train_loader)))\n",
    "\n",
    "  epoch_loss = 0\n",
    "  epoch_acc = 0\n",
    "  model.eval()\n",
    "  with torch.no_grad():\n",
    "    for label, text in val_loader:\n",
    "      predictions = model(text).squeeze(1)\n",
    "      loss = criterion(predictions, label)\n",
    "      \n",
    "      rounded_preds = torch.round(torch.sigmoid(predictions))\n",
    "      correct = (rounded_preds == label).float()\n",
    "      acc = correct.sum() / len(correct)\n",
    "      \n",
    "      epoch_loss += loss.item()\n",
    "      epoch_acc += acc.item()\n",
    "\n",
    "  print(\"Epoch %d Valid: Loss: %.4f Acc: %.4f\" % (epoch + 1, epoch_loss / len(val_loader), \n",
    "                                                  epoch_acc / len(val_loader)))"
   ]
  },
  {
   "cell_type": "code",
   "execution_count": 21,
   "metadata": {},
   "outputs": [],
   "source": [
    "# Read the text data and labels from the test directory\n",
    "test_labels, test_texts = read_text_data(data_path/'test')\n",
    "\n",
    "# Create a custom text dataset object for the test data using the vocabulary and numericalize function\n",
    "test_dataset = CustomTextDataset(test_labels, test_texts, vocab, numericalize_text)\n",
    "\n",
    "# Create a data loader for the test dataset\n",
    "test_loader = DataLoader(test_dataset, collate_fn=collate_batch, batch_size=batch_size, shuffle=False)"
   ]
  },
  {
   "cell_type": "code",
   "execution_count": 22,
   "metadata": {},
   "outputs": [
    {
     "name": "stdout",
     "output_type": "stream",
     "text": [
      "Test: Loss: 0.3210 Acc: 0.8817\n"
     ]
    }
   ],
   "source": [
    "test_loss = 0\n",
    "test_acc = 0\n",
    "model.eval()\n",
    "with torch.no_grad():\n",
    "  for label, text in test_loader:\n",
    "    predictions = model(text).squeeze(1)\n",
    "    loss = criterion(predictions, label)\n",
    "    \n",
    "    rounded_preds = torch.round(\n",
    "        torch.sigmoid(predictions))\n",
    "    correct = (rounded_preds == label).float()\n",
    "    acc = correct.sum() / len(correct)\n",
    "\n",
    "    test_loss += loss.item()\n",
    "    test_acc += acc.item()\n",
    "\n",
    "print(\"Test: Loss: %.4f Acc: %.4f\" %\n",
    "        (test_loss / len(test_loader), \n",
    "        test_acc / len(test_loader)))"
   ]
  },
  {
   "cell_type": "code",
   "execution_count": 33,
   "metadata": {},
   "outputs": [],
   "source": [
    "torch.save(model.state_dict(), 'sentiment-model.pt')\n",
    "\n"
   ]
  },
  {
   "cell_type": "code",
   "execution_count": 24,
   "metadata": {},
   "outputs": [],
   "source": [
    "# Define a text pipeline function that tokenizes and numericalizes a given sentence using the vocabulary\n",
    "text_pipeline = lambda x: vocab(tokenizer(x))\n",
    "\n",
    "# Define a function that predicts the sentiment of a given sentence using the model\n",
    "def predict_sentiment(model, sentence):\n",
    "    model.eval()\n",
    "    text = torch.tensor(text_pipeline(sentence)).unsqueeze(1).to(device)\n",
    "    prediction = model(text)\n",
    "    return torch.sigmoid(prediction).item()"
   ]
  },
  {
   "cell_type": "code",
   "execution_count": 25,
   "metadata": {},
   "outputs": [
    {
     "data": {
      "text/plain": [
       "9.9899903979298e-35"
      ]
     },
     "execution_count": 25,
     "metadata": {},
     "output_type": "execute_result"
    }
   ],
   "source": [
    "sentiment = predict_sentiment(model, \"Very bad movie\")\n",
    "sentiment"
   ]
  },
  {
   "cell_type": "code",
   "execution_count": 26,
   "metadata": {},
   "outputs": [
    {
     "data": {
      "text/plain": [
       "1.0"
      ]
     },
     "execution_count": 26,
     "metadata": {},
     "output_type": "execute_result"
    }
   ],
   "source": [
    "sentiment = predict_sentiment(model, \"This movie is awesome\")\n",
    "sentiment"
   ]
  },
  {
   "cell_type": "code",
   "execution_count": 36,
   "metadata": {},
   "outputs": [
    {
     "name": "stdout",
     "output_type": "stream",
     "text": [
      "negativ\n"
     ]
    }
   ],
   "source": [
    "# load from saved state\n",
    "loaded_model = TextClassificationModel(vocab_size = len(vocab), embedding_dim = 100, output_dim = 1)\n",
    "loaded_model.load_state_dict(torch.load('sentiment-model.pt'))\n",
    "\n",
    "sentiment = predict_sentiment(model, \"Very bad movie\")\n",
    "if sentiment > 0.5:\n",
    "    print(\"positive\")\n",
    "else:\n",
    "    print(\"negativ\")\n",
    "\n",
    "sentiment = predict_sentiment(model, \"This movie is awesome\")\n",
    "if sentiment > 0.5:\n",
    "    print(\"positive\")\n",
    "else:\n",
    "    print(\"negativ\")"
   ]
  },
  {
   "cell_type": "code",
   "execution_count": null,
   "metadata": {},
   "outputs": [],
   "source": []
  }
 ],
 "metadata": {
  "kernelspec": {
   "display_name": "mlservice-env",
   "language": "python",
   "name": "python3"
  },
  "language_info": {
   "codemirror_mode": {
    "name": "ipython",
    "version": 3
   },
   "file_extension": ".py",
   "mimetype": "text/x-python",
   "name": "python",
   "nbconvert_exporter": "python",
   "pygments_lexer": "ipython3",
   "version": "3.11.5"
  }
 },
 "nbformat": 4,
 "nbformat_minor": 2
}
